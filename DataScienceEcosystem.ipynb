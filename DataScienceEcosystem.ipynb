{
 "cells": [
  {
   "cell_type": "markdown",
   "id": "64e6ef2b-8a26-405f-b23b-952db4c9bc73",
   "metadata": {},
   "source": [
    "# Data Science Tools and Ecosytem"
   ]
  },
  {
   "cell_type": "markdown",
   "id": "06929224-e7d7-451e-864e-6f1694773a77",
   "metadata": {},
   "source": [
    "In this notebook, Data Science Tools and Ecosystem are summarized."
   ]
  },
  {
   "cell_type": "markdown",
   "id": "a7966d45-c14a-4c69-9f7c-d6d6eac4ef48",
   "metadata": {},
   "source": [
    "**Objectives:**\n",
    "- Python\n",
    "- Julia\n",
    "- Java\n",
    "- C++"
   ]
  },
  {
   "cell_type": "markdown",
   "id": "0f01a731-b521-4f62-bf5a-6f94a502e94d",
   "metadata": {},
   "source": [
    "Some of the popular languages that Data Scientists use are:\n",
    "1. Julia\n",
    "2. Python\n",
    "3. R\n",
    "4. Java"
   ]
  },
  {
   "cell_type": "markdown",
   "id": "502c30a6-6460-4d83-80fc-b35141e2dfd1",
   "metadata": {},
   "source": [
    "Some of the commonly used libraries used by Data Scientists include:\n",
    "1. Pandas\n",
    "2. Numpy\n",
    "3. Matplotlib\n",
    "4. Scikit-lear2"
   ]
  },
  {
   "cell_type": "markdown",
   "id": "e33d504d-b8e0-4d6c-8816-0371113b1076",
   "metadata": {},
   "source": [
    "| Data Science Tools |\n",
    "| ------------------ |\n",
    "| Apache Spark |\n",
    "| Tensor Flow |\n",
    "| Jupyter Notebook |"
   ]
  },
  {
   "cell_type": "markdown",
   "id": "a7393e73-d22e-422e-87ae-45145d109e9e",
   "metadata": {},
   "source": [
    "### Below are a few examples of evaluating Arithmetic expressins in Python"
   ]
  },
  {
   "cell_type": "code",
   "execution_count": 4,
   "id": "b52142d4-91e8-4658-8df6-2ca3afb8caa5",
   "metadata": {},
   "outputs": [
    {
     "data": {
      "text/plain": [
       "17"
      ]
     },
     "execution_count": 4,
     "metadata": {},
     "output_type": "execute_result"
    }
   ],
   "source": [
    "# This is a simple arithmetic expression to multiply then add integers\n",
    "(3*4)+5"
   ]
  },
  {
   "cell_type": "code",
   "execution_count": 13,
   "id": "65092194-ac98-456e-98b9-1667de148aad",
   "metadata": {},
   "outputs": [
    {
     "data": {
      "text/plain": [
       "3.3333333333333335"
      ]
     },
     "execution_count": 13,
     "metadata": {},
     "output_type": "execute_result"
    }
   ],
   "source": [
    "# This will convert 200 minutes to hours by dividing by 60\n",
    "time_in_minutes = 200\n",
    "time_in_hours = time_in_minutes / 60\n",
    "time_in_hours"
   ]
  },
  {
   "cell_type": "markdown",
   "id": "77cf1d39-3ea0-422a-be36-a74f9508f55a",
   "metadata": {},
   "source": [
    "## Author\n",
    "Jan Hofmann"
   ]
  }
 ],
 "metadata": {
  "kernelspec": {
   "display_name": "Python 3 (ipykernel)",
   "language": "python",
   "name": "python3"
  },
  "language_info": {
   "codemirror_mode": {
    "name": "ipython",
    "version": 3
   },
   "file_extension": ".py",
   "mimetype": "text/x-python",
   "name": "python",
   "nbconvert_exporter": "python",
   "pygments_lexer": "ipython3",
   "version": "3.10.9"
  }
 },
 "nbformat": 4,
 "nbformat_minor": 5
}
